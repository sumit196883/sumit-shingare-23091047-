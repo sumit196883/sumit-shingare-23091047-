{
  "nbformat": 4,
  "nbformat_minor": 0,
  "metadata": {
    "colab": {
      "provenance": []
    },
    "kernelspec": {
      "name": "python3",
      "display_name": "Python 3"
    },
    "language_info": {
      "name": "python"
    }
  },
  "cells": [
    {
      "cell_type": "code",
      "execution_count": null,
      "metadata": {
        "id": "vcxA-yEz5-md"
      },
      "outputs": [],
      "source": [
        "// Question 3"
      ]
    },
    {
      "cell_type": "code",
      "source": [
        "import numpy as np\n",
        "\n",
        "# Given matrix A (previously obtained)\n",
        "A = np.array([[1, 2, 3, 4, 5],\n",
        "              [6, 7, 8, 9, 10],\n",
        "              [11, 12, 13, 14, 15],\n",
        "              [16, 17, 18, 19, 20],\n",
        "              [21, 22, 23, 24, 25]])\n",
        "\n",
        "# Perform Singular Value Decomposition (SVD)\n",
        "U, Sigma, Vt = np.linalg.svd(A)\n",
        "\n",
        "# Create the diagonal matrix Σ from the 1-D array Sigma\n",
        "Sigma_mat = np.diag(Sigma)\n",
        "\n",
        "# Print matrices U, Σ, and Vᵀ\n",
        "print(\"Matrix U:\")\n",
        "print(U)\n",
        "print(\"\\nMatrix Σ:\")\n",
        "print(Sigma_mat)\n",
        "print(\"\\nMatrix Vᵀ:\")\n",
        "print(Vt)\n",
        "\n",
        "# Verify that A equals the product of U, Σ, and Vᵀ\n",
        "A_reconstructed = np.dot(U, np.dot(Sigma_mat, Vt))\n",
        "print(\"\\nMatrix A reconstructed from SVD:\")\n",
        "print(A_reconstructed)\n",
        "\n",
        "# Find the rank-2 approximation of matrix A\n",
        "rank_2_approximation = np.dot(U[:, :2], np.dot(Sigma_mat[:2, :2], Vt[:2, :]))\n",
        "print(\"\\nRank-2 approximation of matrix A:\")\n",
        "print(rank_2_approximation)\n",
        "\n",
        "# Find the rank-3 approximation of matrix A\n",
        "rank_3_approximation = np.dot(U[:, :3], np.dot(Sigma_mat[:3, :3], Vt[:3, :]))\n",
        "print(\"\\nRank-3 approximation of matrix A:\")\n",
        "print(rank_3_approximation)\n"
      ],
      "metadata": {
        "colab": {
          "base_uri": "https://localhost:8080/"
        },
        "id": "xjIcvPSP6HLA",
        "outputId": "cb4598b2-5c60-4a24-ce21-8efe2850ae75"
      },
      "execution_count": null,
      "outputs": [
        {
          "output_type": "stream",
          "name": "stdout",
          "text": [
            "Matrix U:\n",
            "[[-0.09359323 -0.76892152  0.61130515  0.0196316  -0.16099879]\n",
            " [-0.24363203 -0.49055421 -0.5142169  -0.45682855  0.4763283 ]\n",
            " [-0.39367083 -0.2121869  -0.3594458   0.81870773 -0.02272392]\n",
            " [-0.54370962  0.06618041 -0.18367831 -0.34545623 -0.73954194]\n",
            " [-0.69374842  0.34454772  0.44603585 -0.03605456  0.44693633]]\n",
            "\n",
            "Matrix Σ:\n",
            "[[7.42540539e+01 0.00000000e+00 0.00000000e+00 0.00000000e+00\n",
            "  0.00000000e+00]\n",
            " [0.00000000e+00 3.36681954e+00 0.00000000e+00 0.00000000e+00\n",
            "  0.00000000e+00]\n",
            " [0.00000000e+00 0.00000000e+00 2.98266488e-15 0.00000000e+00\n",
            "  0.00000000e+00]\n",
            " [0.00000000e+00 0.00000000e+00 0.00000000e+00 1.53916447e-15\n",
            "  0.00000000e+00]\n",
            " [0.00000000e+00 0.00000000e+00 0.00000000e+00 0.00000000e+00\n",
            "  2.08136977e-16]]\n",
            "\n",
            "Matrix Vᵀ:\n",
            "[[-0.39262281 -0.41913118 -0.44563955 -0.47214793 -0.4986563 ]\n",
            " [ 0.667718    0.35260325  0.0374885  -0.27762625 -0.592741  ]\n",
            " [ 0.5359956  -0.50603463 -0.52349916  0.42111979  0.0724184 ]\n",
            " [-0.33541664  0.36000724 -0.21070021  0.68304527 -0.49693566]\n",
            " [ 0.01429645 -0.56064583  0.69394096  0.23686977 -0.38446135]]\n",
            "\n",
            "Matrix A reconstructed from SVD:\n",
            "[[ 1.  2.  3.  4.  5.]\n",
            " [ 6.  7.  8.  9. 10.]\n",
            " [11. 12. 13. 14. 15.]\n",
            " [16. 17. 18. 19. 20.]\n",
            " [21. 22. 23. 24. 25.]]\n",
            "\n",
            "Rank-2 approximation of matrix A:\n",
            "[[ 1.  2.  3.  4.  5.]\n",
            " [ 6.  7.  8.  9. 10.]\n",
            " [11. 12. 13. 14. 15.]\n",
            " [16. 17. 18. 19. 20.]\n",
            " [21. 22. 23. 24. 25.]]\n",
            "\n",
            "Rank-3 approximation of matrix A:\n",
            "[[ 1.  2.  3.  4.  5.]\n",
            " [ 6.  7.  8.  9. 10.]\n",
            " [11. 12. 13. 14. 15.]\n",
            " [16. 17. 18. 19. 20.]\n",
            " [21. 22. 23. 24. 25.]]\n"
          ]
        }
      ]
    }
  ]
}