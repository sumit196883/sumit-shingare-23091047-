{
  "nbformat": 4,
  "nbformat_minor": 0,
  "metadata": {
    "colab": {
      "provenance": []
    },
    "kernelspec": {
      "name": "python3",
      "display_name": "Python 3"
    },
    "language_info": {
      "name": "python"
    }
  },
  "cells": [
    {
      "cell_type": "code",
      "execution_count": null,
      "metadata": {
        "id": "RaQ8tVLn8Oso"
      },
      "outputs": [],
      "source": [
        "Question 1"
      ]
    },
    {
      "cell_type": "code",
      "source": [
        "import pandas as pd\n",
        "import matplotlib.pyplot as plt\n",
        "import seaborn as sns\n",
        "\n",
        "# Load the dataset\n",
        "iris_df = pd.read_csv(\"iris.csv\")\n",
        "\n",
        "# Display the first few rows of the dataset\n",
        "print(\"First few rows of the dataset:\")\n",
        "print(iris_df.head())\n",
        "\n",
        "# Data visualization for all numerical columns\n",
        "numerical_columns = iris_df.select_dtypes(include=['float64', 'int64']).columns\n",
        "\n",
        "# Histograms\n",
        "iris_df[numerical_columns].hist(figsize=(10, 8))\n",
        "plt.suptitle('Histograms for Numerical Columns')\n",
        "plt.show()\n",
        "\n",
        "# Box plots\n",
        "plt.figure(figsize=(10, 8))\n",
        "sns.boxplot(data=iris_df[numerical_columns])\n",
        "plt.title('Box Plots for Numerical Columns')\n",
        "plt.show()\n",
        "\n",
        "# Scatter plots\n",
        "sns.pairplot(iris_df, diag_kind='kde')\n",
        "plt.suptitle('Pair Plot for Numerical Columns')\n",
        "plt.show()\n",
        "\n",
        "# Statistical measures\n",
        "statistical_measures = iris_df.describe()\n",
        "print(\"Statistical Measures for Numerical Columns:\")\n",
        "print(statistical_measures)\n"
      ],
      "metadata": {
        "id": "n8JiuNfS8Rep"
      },
      "execution_count": null,
      "outputs": []
    }
  ]
}