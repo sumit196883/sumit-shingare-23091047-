{
  "nbformat": 4,
  "nbformat_minor": 0,
  "metadata": {
    "colab": {
      "provenance": []
    },
    "kernelspec": {
      "name": "python3",
      "display_name": "Python 3"
    },
    "language_info": {
      "name": "python"
    }
  },
  "cells": [
    {
      "cell_type": "code",
      "execution_count": null,
      "metadata": {
        "id": "0UcVm_SG17Vd"
      },
      "outputs": [],
      "source": [
        "// Question 2"
      ]
    },
    {
      "cell_type": "code",
      "source": [
        "import numpy as np\n",
        "\n",
        "# Set the random seed\n",
        "np.random.seed(47)\n",
        "\n",
        "# Create a 5x5 matrix A with random integer entries between 0 and 9\n",
        "A = np.random.randint(0, 10, size=(5, 5))\n",
        "\n",
        "print(\"Original matrix A:\")\n",
        "print(A)\n",
        "\n",
        "# Reduce matrix A to its row echelon form\n",
        "rows, cols = A.shape\n",
        "current_row = 0\n",
        "\n",
        "for col in range(cols):\n",
        "    # Find the first non-zero element in the column\n",
        "    non_zero_row = current_row\n",
        "    while non_zero_row < rows and A[non_zero_row, col] == 0:\n",
        "        non_zero_row += 1\n",
        "\n",
        "    if non_zero_row == rows:\n",
        "        # This column is all zeros below current_row, move to the next column\n",
        "        continue\n",
        "\n",
        "    # Swap rows so that the non-zero element is in the current row\n",
        "    A[current_row], A[non_zero_row] = A[non_zero_row], A[current_row]\n",
        "\n",
        "    # Normalize the current row\n",
        "    A[current_row] = A[current_row] / A[current_row, col]\n",
        "\n",
        "    # Eliminate non-zero elements below the pivot\n",
        "    for i in range(current_row + 1, rows):\n",
        "        A[i] -= A[current_row] * A[i, col]\n",
        "\n",
        "    current_row += 1\n",
        "\n",
        "print(\"\\nRow echelon form of matrix A:\")\n",
        "print(A)\n"
      ],
      "metadata": {
        "colab": {
          "base_uri": "https://localhost:8080/"
        },
        "id": "ANnkljXT4zl8",
        "outputId": "c66dc343-ca7d-42f5-b2b6-a4ea63155e02"
      },
      "execution_count": null,
      "outputs": [
        {
          "output_type": "stream",
          "name": "stdout",
          "text": [
            "Original matrix A:\n",
            "[[7 6 7 8 8]\n",
            " [3 0 7 0 7]\n",
            " [7 1 7 2 2]\n",
            " [1 7 4 8 9]\n",
            " [2 9 1 5 0]]\n",
            "\n",
            "Row echelon form of matrix A:\n",
            "[[ 1  0  1  1  1]\n",
            " [ 0  1  0 -5 -5]\n",
            " [ 0  0  1 14 14]\n",
            " [ 0  0  0  1  0]\n",
            " [ 0  0  0  0  1]]\n"
          ]
        }
      ]
    }
  ]
}